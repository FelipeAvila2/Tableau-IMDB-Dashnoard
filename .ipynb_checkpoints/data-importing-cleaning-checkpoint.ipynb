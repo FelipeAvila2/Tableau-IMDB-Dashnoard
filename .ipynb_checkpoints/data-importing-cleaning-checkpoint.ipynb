{
 "cells": [
  {
   "cell_type": "code",
   "execution_count": 116,
   "metadata": {},
   "outputs": [],
   "source": [
    "#importing the necessary packages\n",
    "\n",
    "import pandas as pd\n",
    "import numpy as np\n",
    "import mysql.connector\n",
    "from sqlalchemy import create_engine\n",
    "from datetime import datetime\n",
    "from datetime import date"
   ]
  },
  {
   "cell_type": "code",
   "execution_count": 18,
   "metadata": {},
   "outputs": [
    {
     "name": "stderr",
     "output_type": "stream",
     "text": [
      "C:\\Users\\DELL\\anaconda3\\lib\\site-packages\\IPython\\core\\interactiveshell.py:3146: DtypeWarning: Columns (3) have mixed types.Specify dtype option on import or set low_memory=False.\n",
      "  has_raised = await self.run_ast_nodes(code_ast.body, cell_name,\n"
     ]
    }
   ],
   "source": [
    "#importing the data\n",
    "\n",
    "movies = pd.read_csv('IMDb movies.csv')\n",
    "names = pd.read_csv('IMDb names.csv')\n",
    "ratings = pd.read_csv('IMDb ratings.csv')\n",
    "titles_principals = pd.read_csv('IMDb title_principals.csv')"
   ]
  },
  {
   "cell_type": "code",
   "execution_count": 22,
   "metadata": {},
   "outputs": [],
   "source": [
    "movies = movies[['imdb_title_id', 'title', 'year', 'date_published',\n",
    "       'genre', 'duration', 'country', 'language', 'director', 'writer','actors', 'avg_vote', 'votes',\n",
    "       'budget', 'usa_gross_income', 'worlwide_gross_income', 'metascore',\n",
    "       'reviews_from_users', 'reviews_from_critics']]"
   ]
  },
  {
   "cell_type": "code",
   "execution_count": 40,
   "metadata": {},
   "outputs": [],
   "source": [
    "names = names[['imdb_name_id', 'name', 'height', 'date_of_birth', 'place_of_birth']]"
   ]
  },
  {
   "cell_type": "code",
   "execution_count": 41,
   "metadata": {},
   "outputs": [],
   "source": [
    "#exporting to mysql workbench\n",
    "# 1 - making a connection to mysql workbench\n",
    "\n",
    "host=\"localhost\"\n",
    "port=3306\n",
    "dbname=\"imdb\"\n",
    "user=\"root\"\n",
    "password=\"1234\"\n",
    "\n",
    "engine = create_engine('mysql+mysqlconnector://{0}:{1}@{2}/{3}'\n",
    "            .format(user, password,host, dbname)).connect()\n",
    "\n"
   ]
  },
  {
   "cell_type": "code",
   "execution_count": 28,
   "metadata": {},
   "outputs": [],
   "source": [
    "# loading the tables into mysql\n",
    "\n",
    "movies.to_sql('movies', con = engine,if_exists = 'replace')"
   ]
  },
  {
   "cell_type": "code",
   "execution_count": 30,
   "metadata": {},
   "outputs": [],
   "source": [
    "titles_principals.to_sql('title_principals', con = engine,if_exists = 'replace')"
   ]
  },
  {
   "cell_type": "code",
   "execution_count": 42,
   "metadata": {},
   "outputs": [],
   "source": [
    "names.to_sql('names', con = engine,if_exists = 'replace')"
   ]
  },
  {
   "cell_type": "code",
   "execution_count": 34,
   "metadata": {},
   "outputs": [],
   "source": [
    "ratings.to_sql('ratings', con = engine,if_exists = 'replace')"
   ]
  },
  {
   "cell_type": "code",
   "execution_count": 44,
   "metadata": {},
   "outputs": [],
   "source": [
    "# retrieving the most granular table out of mysql workbench\n",
    "\n",
    "# SELECT mv.imdb_title_id, mv.title, mv.year, mv.genre, mv.duration, mv.country, mv.language, mv.director, mv.writer, mv.avg_vote, mv.votes, mv.budget, \n",
    "# mv.usa_gross_income, mv.worlwide_gross_income, mv.votes_10, mv.`males 18 to 30 avg vote`, mv.`females 18 to 30 avg vote`,\n",
    "# mv.us_voters_rating, mv.non_us_voters_rating, ns.imdb_name_id, ns.name AS 'name', ns.category, ns.date_of_birth AS 'Lead actor birth', ns.place_of_birth 'Lead actor nationality', ns.imdb_title_id\n",
    "# FROM (SELECT mv.imdb_title_id, mv.title, mv.year, mv.genre, mv.duration, mv.country, mv.language, mv.director, mv.writer, mv.avg_vote, mv.votes, mv.budget, \n",
    "# mv.usa_gross_income, mv.worlwide_gross_income, rt.votes_10, rt.males_18age_avg_vote AS 'males 18 to 30 avg vote' , rt.females_18age_avg_vote AS 'females 18 to 30 avg vote',\n",
    "# us_voters_rating, non_us_voters_rating\n",
    "# FROM movies mv\n",
    "# JOIN ratings rt\n",
    "# ON mv.imdb_title_id = rt.imdb_title_id\n",
    "# WHERE mv.year > 1990) mv\n",
    "# JOIN (SELECT ns.imdb_name_id, ns.name, ns.date_of_birth, ns.place_of_birth, tp.category, tp.imdb_title_id\n",
    "# FROM names ns\n",
    "# JOIN title_principals tp\n",
    "# ON ns.imdb_name_id = tp.imdb_name_id) ns\n",
    "# ON mv.imdb_title_id = ns.imdb_title_id;\n",
    "\n",
    "query = pd.read_sql_query(\"\"\"SELECT mv.imdb_title_id, mv.title, mv.year, mv.genre, mv.duration, mv.country, mv.language, mv.director, mv.writer, mv.avg_vote, mv.votes, mv.budget, \n",
    "mv.usa_gross_income, mv.worlwide_gross_income, mv.votes_10, mv.`males 18 to 30 avg vote`, mv.`females 18 to 30 avg vote`,\n",
    "mv.us_voters_rating, mv.non_us_voters_rating, ns.imdb_name_id, ns.name AS 'name', ns.category, ns.date_of_birth AS 'Lead actor birth', ns.place_of_birth 'Lead actor nationality', ns.imdb_title_id\n",
    "FROM (SELECT mv.imdb_title_id, mv.title, mv.year, mv.genre, mv.duration, mv.country, mv.language, mv.director, mv.writer, mv.avg_vote, mv.votes, mv.budget, \n",
    "mv.usa_gross_income, mv.worlwide_gross_income, rt.votes_10, rt.males_18age_avg_vote AS 'males 18 to 30 avg vote' , rt.females_18age_avg_vote AS 'females 18 to 30 avg vote',\n",
    "us_voters_rating, non_us_voters_rating\n",
    "FROM movies mv\n",
    "JOIN ratings rt\n",
    "ON mv.imdb_title_id = rt.imdb_title_id\n",
    "WHERE mv.year > 1990) mv\n",
    "JOIN (SELECT ns.imdb_name_id, ns.name, ns.date_of_birth, ns.place_of_birth, tp.category, tp.imdb_title_id\n",
    "FROM names ns\n",
    "JOIN title_principals tp\n",
    "ON ns.imdb_name_id = tp.imdb_name_id) ns\n",
    "ON mv.imdb_title_id = ns.imdb_title_id;\"\"\", engine)"
   ]
  },
  {
   "cell_type": "code",
   "execution_count": 45,
   "metadata": {},
   "outputs": [],
   "source": [
    "data = query"
   ]
  },
  {
   "cell_type": "code",
   "execution_count": 78,
   "metadata": {},
   "outputs": [],
   "source": [
    "# now i need to clean the data so i can analyze it on tableua"
   ]
  },
  {
   "cell_type": "code",
   "execution_count": 49,
   "metadata": {},
   "outputs": [],
   "source": [
    "# im only interested in the first genre\n",
    "\n",
    "def prime_genre(row):\n",
    "    if ',' in row:\n",
    "        new_list = row.split(',')\n",
    "        return new_list[0]\n",
    "    else:\n",
    "        return row\n",
    "        "
   ]
  },
  {
   "cell_type": "code",
   "execution_count": 75,
   "metadata": {},
   "outputs": [],
   "source": [
    "# im only interested in the native language\n",
    "\n",
    "def prime_language(row):\n",
    "    if type(row) == str:\n",
    "        if ',' in row:\n",
    "            new_list = row.split(',')\n",
    "            return new_list[0]\n",
    "        else:\n",
    "            return row\n",
    "    else:\n",
    "        return row"
   ]
  },
  {
   "cell_type": "code",
   "execution_count": 50,
   "metadata": {},
   "outputs": [],
   "source": [
    "data['prime_genre'] = data['genre'].apply(prime_genre)"
   ]
  },
  {
   "cell_type": "code",
   "execution_count": 76,
   "metadata": {},
   "outputs": [],
   "source": [
    "data['prime_language'] = data['language'].apply(prime_language)"
   ]
  },
  {
   "cell_type": "code",
   "execution_count": 87,
   "metadata": {},
   "outputs": [
    {
     "data": {
      "text/plain": [
       "'$ 47121859'"
      ]
     },
     "execution_count": 87,
     "metadata": {},
     "output_type": "execute_result"
    }
   ],
   "source": [
    "data['usa_gross_income'][2]"
   ]
  },
  {
   "cell_type": "code",
   "execution_count": 90,
   "metadata": {},
   "outputs": [],
   "source": [
    "def income(row):\n",
    "    if type(row) == str:\n",
    "        new_list = row.split(' ')\n",
    "        return int(new_list[1])\n",
    "    else:\n",
    "        return row"
   ]
  },
  {
   "cell_type": "code",
   "execution_count": 91,
   "metadata": {},
   "outputs": [],
   "source": [
    "data['usa_gross_income_clean'] = data['usa_gross_income'].apply(income)"
   ]
  },
  {
   "cell_type": "code",
   "execution_count": 92,
   "metadata": {},
   "outputs": [],
   "source": [
    "data['budget_clean'] = data['budget'].apply(income)"
   ]
  },
  {
   "cell_type": "code",
   "execution_count": 94,
   "metadata": {},
   "outputs": [],
   "source": [
    "data['worldwide_gross_income_clean'] = data['worlwide_gross_income'].apply(income)"
   ]
  },
  {
   "cell_type": "code",
   "execution_count": 106,
   "metadata": {},
   "outputs": [],
   "source": [
    "# only interest in the country\n",
    "\n",
    "def nationality(row):\n",
    "    if type(row) == str:\n",
    "        new_list = row.split(', ')\n",
    "        return new_list[-1]\n",
    "    else:\n",
    "        return row"
   ]
  },
  {
   "cell_type": "code",
   "execution_count": 107,
   "metadata": {},
   "outputs": [],
   "source": [
    "data['subject nationality'] = data['Lead actor nationality'].apply(nationality)"
   ]
  },
  {
   "cell_type": "code",
   "execution_count": 143,
   "metadata": {},
   "outputs": [],
   "source": [
    "# want to know the age of the subject (actor, actress or director)\n",
    "\n",
    "def date(row):\n",
    "\n",
    "    if ((type(row) == str)and ('-' in row)) and (len(row) == 10):\n",
    "        days = datetime.now() - (datetime.strptime(row, '%Y-%m-%d'))\n",
    "        substring = str(days/365)\n",
    "        sublist = substring.split(' ')\n",
    "        return sublist[0]\n",
    "    else:\n",
    "        return row\n",
    "    "
   ]
  },
  {
   "cell_type": "code",
   "execution_count": 144,
   "metadata": {},
   "outputs": [],
   "source": [
    "data['subject birth'] = data['Lead actor birth'].apply(date)"
   ]
  },
  {
   "cell_type": "code",
   "execution_count": 146,
   "metadata": {},
   "outputs": [
    {
     "data": {
      "text/plain": [
       "imdb_title_id                    object\n",
       "title                            object\n",
       "year                             object\n",
       "genre                            object\n",
       "duration                          int64\n",
       "country                          object\n",
       "language                         object\n",
       "director                         object\n",
       "writer                           object\n",
       "avg_vote                        float64\n",
       "votes                             int64\n",
       "budget                           object\n",
       "usa_gross_income                 object\n",
       "worlwide_gross_income            object\n",
       "votes_10                          int64\n",
       "males 18 to 30 avg vote         float64\n",
       "females 18 to 30 avg vote       float64\n",
       "us_voters_rating                float64\n",
       "non_us_voters_rating            float64\n",
       "imdb_name_id                     object\n",
       "name                             object\n",
       "category                         object\n",
       "Lead actor birth                 object\n",
       "Lead actor nationality           object\n",
       "imdb_title_id                    object\n",
       "prime_genre                      object\n",
       "prime_language                   object\n",
       "usa_gross_income_clean          float64\n",
       "budget_clean                    float64\n",
       "worldwide_gross_income_clean    float64\n",
       "subject nationality              object\n",
       "subject birth                    object\n",
       "dtype: object"
      ]
     },
     "execution_count": 146,
     "metadata": {},
     "output_type": "execute_result"
    }
   ],
   "source": [
    "data.dtypes"
   ]
  },
  {
   "cell_type": "code",
   "execution_count": 147,
   "metadata": {},
   "outputs": [
    {
     "data": {
      "text/plain": [
       "Index(['imdb_title_id', 'title', 'year', 'genre', 'duration', 'country',\n",
       "       'language', 'director', 'writer', 'avg_vote', 'votes', 'budget',\n",
       "       'usa_gross_income', 'worlwide_gross_income', 'votes_10',\n",
       "       'males 18 to 30 avg vote', 'females 18 to 30 avg vote',\n",
       "       'us_voters_rating', 'non_us_voters_rating', 'imdb_name_id', 'name',\n",
       "       'category', 'Lead actor birth', 'Lead actor nationality',\n",
       "       'imdb_title_id', 'prime_genre', 'prime_language',\n",
       "       'usa_gross_income_clean', 'budget_clean',\n",
       "       'worldwide_gross_income_clean', 'subject nationality', 'subject birth'],\n",
       "      dtype='object')"
      ]
     },
     "execution_count": 147,
     "metadata": {},
     "output_type": "execute_result"
    }
   ],
   "source": [
    "data.columns"
   ]
  },
  {
   "cell_type": "code",
   "execution_count": 148,
   "metadata": {},
   "outputs": [],
   "source": [
    "new_data = data[['imdb_title_id', 'title', 'year', 'duration', 'country', \n",
    "        'director', 'writer', 'avg_vote', 'votes', 'votes_10',\n",
    "       'males 18 to 30 avg vote', 'females 18 to 30 avg vote',\n",
    "       'us_voters_rating', 'non_us_voters_rating', 'imdb_name_id', 'name',\n",
    "       'category',\n",
    "       'imdb_title_id', 'prime_genre', 'prime_language',\n",
    "       'usa_gross_income_clean', 'budget_clean',\n",
    "       'worldwide_gross_income_clean', 'subject nationality', 'subject birth']]"
   ]
  },
  {
   "cell_type": "code",
   "execution_count": 152,
   "metadata": {},
   "outputs": [],
   "source": [
    "new_data.to_csv('movies_imdb.csv')"
   ]
  },
  {
   "cell_type": "code",
   "execution_count": null,
   "metadata": {},
   "outputs": [],
   "source": []
  }
 ],
 "metadata": {
  "kernelspec": {
   "display_name": "Python 3",
   "language": "python",
   "name": "python3"
  },
  "language_info": {
   "codemirror_mode": {
    "name": "ipython",
    "version": 3
   },
   "file_extension": ".py",
   "mimetype": "text/x-python",
   "name": "python",
   "nbconvert_exporter": "python",
   "pygments_lexer": "ipython3",
   "version": "3.8.5"
  }
 },
 "nbformat": 4,
 "nbformat_minor": 4
}
